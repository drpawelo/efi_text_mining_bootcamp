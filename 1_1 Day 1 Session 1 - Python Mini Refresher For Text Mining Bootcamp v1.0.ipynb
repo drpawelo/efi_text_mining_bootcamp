{
 "cells": [
  {
   "cell_type": "markdown",
   "metadata": {},
   "source": [
    "note: This is a **JUPYTER NOTEBOOK**. It's a type of website where you can edit and run computer programms (code). You interact with it in your web browser and you can find it via your Learn.\n",
    "\n",
    "1. These blocks here are cells\n",
    "2. There are **TEXT CELLS** like this one with explanations of concepts\n",
    "3. and **CODE CELLS** with Python code (see below). Code cells have a ```In [ ]``` written to the left\n",
    "4. You can **RUN CODE CELLS** by clicking on them and pressing **Shirt + Enter**. When you run a cell code in it is run (it \"happens\", computer will do what you asked for it to do). Results of what your code does will appear underneath the cell.\n",
    "5. As we go through these lessons, please READ text cells, and RUN code cells\n",
    "6. Good luck!\n",
    "\n",
    "✅Remmeber to RUN ALL THE CELLS IN ORDER  (if you skip some, you might see some unexpected errors)."
   ]
  },
  {
   "cell_type": "code",
   "execution_count": null,
   "metadata": {},
   "outputs": [],
   "source": [
    "# writing code and running code\n",
    "\n",
    "# in these grey boxes called 'Cells' you can write your python code and 'Run it' (execute it, make it happen).\n",
    "# it means that the computer will try to interpret what you are instructing it to do, and will try to do it\n",
    "# to 'Run' a cell, press Shift+Enter on your keyboard, or press Run button at the top\n",
    "\n",
    "# for example let's try adding two numbers. Notice that what appears below is not \"2+3\"\n",
    "# but rather the result of doinbg what you requested (additn two numbers)\n",
    "2+3"
   ]
  },
  {
   "cell_type": "code",
   "execution_count": null,
   "metadata": {},
   "outputs": [],
   "source": [
    "# Printing: to show something on the screen use python's function print( the_thing_to_show )\n",
    "\n",
    "# in the above exampe the cell returned the 'result' of its final line of code (2+3) \n",
    "# But often we want to show more than just one line, for which we employ the metaphor of printing on paper\n",
    "# Print in other languages it could be echo() or console.log()\n",
    "\n",
    "print( \"Hello there\" )\n",
    "print( \"Here's another line\" )"
   ]
  },
  {
   "cell_type": "code",
   "execution_count": null,
   "metadata": {},
   "outputs": [],
   "source": [
    "# Variables: Storage places in your code where you can keep something for later\n",
    "\n",
    "# e.g. below we hold a \"main_text.txt\" for later in a variable called filename\n",
    "file_name = \"./data/barack_obama_speeches/inaugural_speech.txt\"\n",
    "\n",
    "# To put something in a variable you can use 'assignment' written as an equals sign =\n",
    "# You can imagine = as a left pointing arrow <--- \n",
    "# which takes the values on the right, and puts them in a variable on the right\n",
    "size = 20 + 30\n",
    "full_name = \"Nicky\" + \" O'Neill\""
   ]
  },
  {
   "cell_type": "code",
   "execution_count": null,
   "metadata": {},
   "outputs": [],
   "source": [
    "# errors: if something goes wrong, Python will try to explain to you exactly what went wrong\n",
    "# errors are your best friends.\n",
    "\n",
    "file_name = \"./some_file_that_does_not_exist.txt\"\n",
    "\n",
    "my_file = open(file_name)"
   ]
  },
  {
   "cell_type": "markdown",
   "metadata": {},
   "source": [
    "✅ A reminder, if you are not doing it yet: RUN THE CELLS one after another with Shift+Enter\n",
    "\n",
    "(it will automatically move you to the next cell, so you can just keep pressing Shift+Enter)"
   ]
  },
  {
   "cell_type": "code",
   "execution_count": null,
   "metadata": {},
   "outputs": [],
   "source": [
    "# Lists (in other languages called 'Arrays') and Loops \n",
    "\n",
    "# Lists use square brackets [ ] and you access elements by specifying their index (which in the row they are)\n",
    "# in python we start counting at 0, so my_letters[0] means 'the first item in list called my_letters'\n",
    "my_letters = [\"A\",\"B\",\"C\",\"D\",\"E\"] \n",
    "print(my_letters[0])\n",
    "print(my_letters[3])\n",
    "print(my_letters[-2])"
   ]
  },
  {
   "cell_type": "code",
   "execution_count": null,
   "metadata": {},
   "outputs": [],
   "source": [
    "# get length of a list\n",
    "print(len(my_letters))"
   ]
  },
  {
   "cell_type": "code",
   "execution_count": null,
   "metadata": {},
   "outputs": [],
   "source": [
    "# slice - get some elements of a list my_list[index_to_start : index_to_end]  \n",
    "\n",
    "# if you skip one of the indexes, it assumes it should go all the way to end or beginning\n",
    "\n",
    "my_letters = [\"A\",\"B\",\"C\",\"D\",\"E\"] \n",
    "print(my_letters[2:4])  #from index 2 to index 4 (not inclusive)\n",
    "print(my_letters[:4])  #from beginning to index 4 (not inclusive)\n",
    "print(my_letters[2:])  #from index 2 to end\n",
    "\n",
    "print(my_letters[2:-2])  #from index 2 to second last (not inclusive) "
   ]
  },
  {
   "cell_type": "code",
   "execution_count": null,
   "metadata": {
    "scrolled": true
   },
   "outputs": [],
   "source": [
    "# loop and list comprehention (python's own loop shortcut)\n",
    "\n",
    "my_letters = [\"A\",\"B\",\"C\",\"D\",\"E\"] \n",
    "for letter in my_letters:\n",
    "    print(letter)\n",
    "    \n",
    "# notice there are no brackets like in other languages. Instead python uses indentation and :"
   ]
  },
  {
   "cell_type": "code",
   "execution_count": null,
   "metadata": {},
   "outputs": [],
   "source": [
    "# range( X ) creates something like a list, useful for looping. It will create a set of numbers from 0 to X\n",
    "for number in range(5):\n",
    "    print(number)"
   ]
  },
  {
   "cell_type": "code",
   "execution_count": null,
   "metadata": {},
   "outputs": [],
   "source": [
    "# you can control which lines of code are executed with if-else\n",
    "number1 = 3\n",
    "if number1 > 10:\n",
    "    print(\"larger than 10\")\n",
    "else:\n",
    "    print(\"smaller than 10\")"
   ]
  },
  {
   "cell_type": "code",
   "execution_count": null,
   "metadata": {},
   "outputs": [],
   "source": [
    "# list comprehention: 'comprehend' a list as its lowercase values \n",
    "my_letters = [\"A\",\"B\",\"C\",\"D\",\"E\"] \n",
    "\n",
    "my_letters_lowercased = [letter.lower() for letter in my_letters]\n",
    "print(my_letters_lowercased) "
   ]
  },
  {
   "cell_type": "code",
   "execution_count": null,
   "metadata": {},
   "outputs": [],
   "source": [
    "# it is much easier to see when you think of it as\n",
    "# result = [  output    input    optional_condition ]\n",
    "\n",
    "# note you can add new lines within List comprehention to make it easier to read\n",
    "# result = [  output\n",
    "#             input\n",
    "#             optional_condition\n",
    "#          ]\n",
    "\n",
    "\n",
    "my_letters = [\"A\",\"B\",\"C\",\"D\",\"E\"] \n",
    "\n",
    "# e.g. for each letter in the list represent them as lower_case: \n",
    "my_letters_lowercased = [letter.lower() \n",
    "                         for letter in my_letters]\n",
    "\n",
    "print(my_letters_lowercased) "
   ]
  },
  {
   "cell_type": "code",
   "execution_count": null,
   "metadata": {},
   "outputs": [],
   "source": [
    "# e.g. for each letter in the list, keep those not equal to \"B\" or \"E\" and represent them as lower_case: \n",
    "some_letters_lowercased = [letter.lower() \n",
    "                         for letter in my_letters\n",
    "                         if letter != \"B\" and letter != \"E\"]\n",
    "\n",
    "print(some_letters_lowercased) "
   ]
  },
  {
   "cell_type": "code",
   "execution_count": null,
   "metadata": {},
   "outputs": [],
   "source": [
    "# e.g. for each letter in the list, keep those not equal to \"B\" or \"E\" and represent them WITH NO CHANGES\n",
    "some_letters = [ letter\n",
    "                 for letter in my_letters\n",
    "                 if letter != \"B\" and letter != \"E\"]\n",
    "\n",
    "print(some_letters) "
   ]
  },
  {
   "cell_type": "code",
   "execution_count": null,
   "metadata": {},
   "outputs": [],
   "source": [
    "# Dictionaries\n",
    "\n",
    "# you might also encounter Dictionaries, which are like lists, \n",
    "# but instead of indexes 0,1,2,... you get to come up with your own names (called 'keys')\n",
    "\n",
    "word_occurance = {\"President\": 72, \"America\": 81, \"elect\": 7}\n",
    "# here key \"President\" points to a value 72, key \"America\" points to a value 81, and \"elect\" points to 7\n",
    "print(word_occurance[\"President\"])"
   ]
  },
  {
   "cell_type": "code",
   "execution_count": null,
   "metadata": {},
   "outputs": [],
   "source": [
    "# you might also encounter Lists of Dictionaries, Or Dictionaries with Lists or other collection combinations\n",
    "# do not panic, and always try to identify where brackets begin and end, and go from there.\n",
    "parts_of_speech = { \"verbs\": [\"go\", \"speak\", \"win\"],\n",
    "                    \"nouns\": [\"president\", \"senate\"],\n",
    "                    \"adjectives\": [\"new\"]\n",
    "                  }\n",
    "print(parts_of_speech[\"nouns\"][1])\n",
    "\n",
    "# Top TIP: notice that when you click a bracket, it's counterpart gets highlighted!"
   ]
  },
  {
   "cell_type": "code",
   "execution_count": null,
   "metadata": {},
   "outputs": [],
   "source": [
    "list_of_pairs = [(\"president\", \"of\"), \n",
    "                 (\"victory\",\"speech\"), \n",
    "                 (\"gathered\", \"here\")]"
   ]
  },
  {
   "cell_type": "code",
   "execution_count": null,
   "metadata": {},
   "outputs": [],
   "source": [
    "# build-in methods and functions\n",
    "\n",
    "# some functionality is built into python environment\n",
    "print( \"Hello!\" )\n",
    "print( len( [\"a\",\"b\",\"c\"] ) )\n",
    "print( len( \"text mining\" ) )"
   ]
  },
  {
   "cell_type": "code",
   "execution_count": null,
   "metadata": {},
   "outputs": [],
   "source": [
    "# and some are attached to variables or results of other functions/methods\n",
    "my_letters = [\"A\",\"B\",\"C\",\"C\",\"C\",\"D\",\"E\"] \n",
    "\n",
    "# .lower() is attached to a string ('string' is a python name for a word)\n",
    "print(\"Hello, this IS a Nice Day!\".lower() ) \n",
    "print(my_letters[0].lower() ) "
   ]
  },
  {
   "cell_type": "code",
   "execution_count": null,
   "metadata": {},
   "outputs": [],
   "source": [
    "my_letters = [\"A\",\"B\",\"C\",\"C\",\"C\",\"D\",\"E\"] \n",
    "# .count() is attached to a list, and takes an argument (thing you want to count) and return how many there are\n",
    "print(my_letters.count('C')) "
   ]
  },
  {
   "cell_type": "code",
   "execution_count": null,
   "metadata": {},
   "outputs": [],
   "source": [
    "# you can daisy-chain these functions, like you would do with power extention cords in your home:\n",
    "\n",
    "# when parts of the code are separated by . you interpret them from the left hand side, like:\n",
    "\n",
    "\"Hello there\".upper().count(\"E\")\n",
    "# first take the string \"Hello there\"\n",
    "# then turn it into upper case \"HELLO THERE\"\n",
    "# then IN THAT UPPERCASED VERSION count occurances of \"E\""
   ]
  },
  {
   "cell_type": "code",
   "execution_count": null,
   "metadata": {},
   "outputs": [],
   "source": [
    "# this is also an example of accessing files from the internet, using daisy-chaining\n",
    "import urllib\n",
    "link = \"https://raw.githubusercontent.com/drpawelo/efi_text_mining_bootcamp/master/data/inaugural_speech_obama.txt\"\n",
    "\n",
    "# urllib library has an element request\n",
    "# request has a methof urlopen() which returns a file\n",
    "file = urllib.request.urlopen(link)\n",
    "\n",
    "# file has a method read() which reads it into a string\n",
    "read_file = file.read()\n",
    "\n",
    "# string has a method decode() which puts it into english characters\n",
    "english_text = read_file.decode('utf-8')\n",
    "\n",
    "\n",
    "print(english_text)"
   ]
  },
  {
   "cell_type": "code",
   "execution_count": null,
   "metadata": {},
   "outputs": [],
   "source": [
    "# you can also put things into things, in which case you execute them from the middle:\n",
    "\n",
    "# you know that from simple mathematics\n",
    "result = 4 * (24 + (8 - 3) - 4) \n",
    "print(result)\n",
    "\n",
    "my_letters = [\"a\",\"B\",\"c\",\"C\",\"c\",\"D\",\"e\"] \n",
    "\n",
    "print(my_letters.count('C'.lower()))\n",
    "# first do 'C'.lower(), which becomes 'c'\n",
    "# and only then do the count() which becomes 2\n",
    "# and only then do the print\n"
   ]
  },
  {
   "cell_type": "code",
   "execution_count": null,
   "metadata": {},
   "outputs": [],
   "source": [
    "# Cast (like what you wear when you break an arm) is a method to force something into another shape\n",
    "\n",
    "word_as_number = int(\"27873\")\n",
    "number_as_word = str(324)\n",
    "\n",
    "print( \"20\" + str(20))  # this adds two strings \"20\" and \"20\"\n",
    "print( 20 + int(\"20\"))  # this adds two int numbers 20 and 20"
   ]
  },
  {
   "cell_type": "code",
   "execution_count": null,
   "metadata": {},
   "outputs": [],
   "source": [
    "# but this would confuse python and throw an error, that's why we need casting\n",
    "print( 20 + \"20\") "
   ]
  },
  {
   "cell_type": "code",
   "execution_count": null,
   "metadata": {},
   "outputs": [],
   "source": [
    "# you can use casting to creatively clean up your data. \n",
    "# e.g. set( ) is a variable type that has no duplicates, \n",
    "# so you can cast a list into a set, to remove duplicates, and then cast it back into a list\n",
    "# unfortunately, this will mess up the order\n",
    "\n",
    "my_letters = [\"A\",\"B\",\"C\",\"C\",\"C\",\"D\",\"E\"] \n",
    "my_letters_no_duplicates = list( set(my_letters) ) \n",
    "my_letters_no_duplicates"
   ]
  },
  {
   "cell_type": "code",
   "execution_count": null,
   "metadata": {},
   "outputs": [],
   "source": [
    "# we will friequently import some useful libraries:\n",
    "\n",
    "import string\n",
    "print(string.punctuation)\n",
    "print(string.digits)"
   ]
  }
 ],
 "metadata": {
  "kernelspec": {
   "display_name": "Python 3",
   "language": "python",
   "name": "python3"
  },
  "language_info": {
   "codemirror_mode": {
    "name": "ipython",
    "version": 3
   },
   "file_extension": ".py",
   "mimetype": "text/x-python",
   "name": "python",
   "nbconvert_exporter": "python",
   "pygments_lexer": "ipython3",
   "version": "3.7.6"
  }
 },
 "nbformat": 4,
 "nbformat_minor": 4
}
